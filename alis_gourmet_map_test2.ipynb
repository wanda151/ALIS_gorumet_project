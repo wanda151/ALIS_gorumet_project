{
 "cells": [
  {
   "cell_type": "code",
   "execution_count": 1,
   "metadata": {},
   "outputs": [],
   "source": [
    "import urllib\n",
    "import json\n",
    "import sys\n",
    "import codecs\n",
    "import urllib.request\n",
    "import pprint\n",
    "import datetime\n",
    "import time\n",
    "from itertools import zip_longest"
   ]
  },
  {
   "cell_type": "code",
   "execution_count": 2,
   "metadata": {},
   "outputs": [
    {
     "name": "stdout",
     "output_type": "stream",
     "text": [
      "https://alis.to/api/search/articles?tag=ALIS%E3%82%B0%E3%83%AB%E3%83%A1%E4%BC%81%E7%94%BB\n"
     ]
    }
   ],
   "source": [
    "tag_name = \"ALISグルメ企画\"\n",
    "new_tag_name= urllib.parse.quote(tag_name)\n",
    "api_tag = 'https://alis.to/api/search/articles?tag='+new_tag_name\n",
    "print(api_tag)"
   ]
  },
  {
   "cell_type": "code",
   "execution_count": 3,
   "metadata": {},
   "outputs": [],
   "source": [
    "url_tag = urllib.request.urlopen(api_tag)"
   ]
  },
  {
   "cell_type": "code",
   "execution_count": 4,
   "metadata": {},
   "outputs": [],
   "source": [
    "article_tags = json.loads(url_tag.read().decode(\"utf-8\"))"
   ]
  },
  {
   "cell_type": "code",
   "execution_count": 5,
   "metadata": {},
   "outputs": [],
   "source": [
    "article_ids = [article_tag.get('article_id') for article_tag in article_tags]\n",
    "#article idを取り出す"
   ]
  },
  {
   "cell_type": "code",
   "execution_count": 6,
   "metadata": {},
   "outputs": [],
   "source": [
    "user_ids = [article_tag.get('user_id') for article_tag in article_tags]\n",
    "#user id を取り出す"
   ]
  },
  {
   "cell_type": "code",
   "execution_count": 7,
   "metadata": {},
   "outputs": [],
   "source": [
    "api_article_ids = [\"https://alis.to/api/articles/\"+article_id for article_id in article_ids]\n",
    "#article_idをAPIで取り出しやすい形にする"
   ]
  },
  {
   "cell_type": "code",
   "execution_count": 8,
   "metadata": {},
   "outputs": [],
   "source": [
    "user_id_info_apis = [\"https://alis.to/api/users/\"+user_id+\"/info\" for user_id in user_ids]\n",
    "#user_id_infoをAPIで取り出しやすい形にする"
   ]
  },
  {
   "cell_type": "code",
   "execution_count": 9,
   "metadata": {},
   "outputs": [],
   "source": [
    "user_id_infos = [json.loads(urllib.request.urlopen(user_id_info_api).read().decode(\"utf-8\")) for user_id_info_api in user_id_info_apis]\n",
    "#/users/{user_id}/infoを取り出す"
   ]
  },
  {
   "cell_type": "code",
   "execution_count": 10,
   "metadata": {},
   "outputs": [],
   "source": [
    "user_display_names = [user_id_info.get('user_display_name') for user_id_info in user_id_infos]\n",
    "#user_display_name　を取り出す"
   ]
  },
  {
   "cell_type": "code",
   "execution_count": 11,
   "metadata": {},
   "outputs": [],
   "source": [
    "likes_apis = [\"https://alis.to/api/articles/\"+article_id+\"/likes\" for article_id in article_ids]\n",
    "#likes_apiをAPIで取り出しやすい形にする"
   ]
  },
  {
   "cell_type": "code",
   "execution_count": 12,
   "metadata": {},
   "outputs": [],
   "source": [
    "likes = [json.loads(urllib.request.urlopen(likes_api).read().decode(\"utf-8\")) for likes_api in likes_apis]"
   ]
  },
  {
   "cell_type": "code",
   "execution_count": 13,
   "metadata": {},
   "outputs": [],
   "source": [
    "likes_counts = [like.get('count') for like in likes]\n",
    "#Like数　を取り出す"
   ]
  },
  {
   "cell_type": "code",
   "execution_count": 14,
   "metadata": {},
   "outputs": [],
   "source": [
    "articles_bodys = [json.loads(urllib.request.urlopen(api_article_id).read().decode(\"utf-8\")) for api_article_id in api_article_ids]"
   ]
  },
  {
   "cell_type": "code",
   "execution_count": 15,
   "metadata": {},
   "outputs": [],
   "source": [
    "def get_block(text, start_text, end_text):\n",
    "    if not text.find(start_text) >= 0:\n",
    "        return []\n",
    "    new_texts = []\n",
    "    for split_text in text.split(start_text):\n",
    "        if split_text.find(end_text) >= 0:\n",
    "            new_texts.append(split_text.split(end_text)[0])\n",
    "    return new_texts"
   ]
  },
  {
   "cell_type": "code",
   "execution_count": 16,
   "metadata": {},
   "outputs": [],
   "source": [
    "def get_block_tag(texts, start_text, end_text=None, tags=None):\n",
    "    \n",
    "    if not end_text:\n",
    "        end_text = \"<end>\"\n",
    "        \n",
    "    if not tags:\n",
    "        tags = [\"企画タグ\", \"料理ジャンル\", \"店名\", \"住所\"]\n",
    "    \n",
    "    texts = [text+end_text for text in texts]\n",
    "    for tag in tags:\n",
    "        texts = [text.replace(tag,end_text+tag) for text in texts]\n",
    "    \n",
    "    text = \"\".join(texts)\n",
    "    \n",
    "    if not text.find(start_text) >= 0:\n",
    "        return []\n",
    "    \n",
    "    new_texts = []\n",
    "    for split_text in text.split(start_text):\n",
    "        if split_text.find(end_text) >= 0:\n",
    "            new_texts.append(split_text.split(end_text)[0])\n",
    "    \n",
    "    remove_words = [\":\", \"：\", \"<br>\"]\n",
    "    for remove_word in remove_words:\n",
    "        new_texts = [new_text.replace(remove_word, \"\") for new_text in new_texts]\n",
    "        \n",
    "    new_texts = [new_text for new_text in new_texts if new_text]\n",
    "    \n",
    "    return new_texts"
   ]
  },
  {
   "cell_type": "code",
   "execution_count": 17,
   "metadata": {},
   "outputs": [
    {
     "name": "stdout",
     "output_type": "stream",
     "text": [
      "['#秋の味覚絶品ピン', '#ラーメン\\u3000#さんま', '拉麺 阿吽', '(〒含む)〒380-0928 長野県長野市若里４丁目１５−１８']\n",
      "['#秋の味覚絶品ピン評価4', '#ラーメン\\u3000#さんま', None, '(〒含む)〒380-0928 長野県長野市若里４丁目１５−１８']\n",
      "['#秋の', '#ラーメン\\u3000', None, '(〒含む)〒380-0928 若里４丁目１５−１８']\n"
     ]
    }
   ],
   "source": [
    "for articles_body in articles_bodys:\n",
    "    texts = get_block(articles_body.get(\"body\"), \"<blockquote>\", \"</blockquote>\")\n",
    "    texts = [text for text in texts if text.find(\"〒\") >= 0]\n",
    "    project_names = get_block_tag(texts, \"企画タグ\")\n",
    "    food_genres = get_block_tag(texts, \"料理ジャンル\")\n",
    "    store_names = get_block_tag(texts, \"店名\")\n",
    "    locations = get_block_tag(texts, \"住所\")\n",
    "    for project_name, food_genre, store_name, location in zip_longest(project_names, food_genres, store_names, locations):\n",
    "        tags_name=[project_name, food_genre, store_name, location]\n",
    "        print(tags_name) "
   ]
  },
  {
   "cell_type": "code",
   "execution_count": 18,
   "metadata": {},
   "outputs": [
    {
     "name": "stdout",
     "output_type": "stream",
     "text": [
      "https://alis.to/wand/articles/3Y1odX9j51qy\n",
      "https://alis.to/wand/articles/3ldMkpzN4J87\n",
      "https://alis.to/wand/articles/3LqV1qnyX1Dp\n"
     ]
    }
   ],
   "source": [
    "for (article_id, user_id) in zip(article_ids, user_ids):\n",
    "    article_url=\"https://alis.to/\"+str(user_id) +\"/articles/\"+ str(article_id)\n",
    "    print(article_url)"
   ]
  },
  {
   "cell_type": "code",
   "execution_count": 19,
   "metadata": {},
   "outputs": [
    {
     "name": "stdout",
     "output_type": "stream",
     "text": [
      "1 1 企画名\n",
      "1 2 料理ジャンル\n",
      "1 3 店名\n",
      "1 4 住所\n",
      "1 5 記事URL\n",
      "1 6 ユーザー名\n",
      "1 7 いいね数\n"
     ]
    }
   ],
   "source": [
    "sheet_row_1 = [\"企画名\",\"料理ジャンル\",\"店名\",\"住所\",\"記事URL\",\"ユーザー名\",\"いいね数\"]\n",
    "for i, sheet_rows_1 in enumerate(sheet_row_1):\n",
    "   print(1, i+1, sheet_row_1[i])"
   ]
  },
  {
   "cell_type": "code",
   "execution_count": null,
   "metadata": {},
   "outputs": [],
   "source": []
  }
 ],
 "metadata": {
  "kernelspec": {
   "display_name": "Python 3",
   "language": "python",
   "name": "python3"
  },
  "language_info": {
   "codemirror_mode": {
    "name": "ipython",
    "version": 3
   },
   "file_extension": ".py",
   "mimetype": "text/x-python",
   "name": "python",
   "nbconvert_exporter": "python",
   "pygments_lexer": "ipython3",
   "version": "3.6.5"
  }
 },
 "nbformat": 4,
 "nbformat_minor": 2
}
